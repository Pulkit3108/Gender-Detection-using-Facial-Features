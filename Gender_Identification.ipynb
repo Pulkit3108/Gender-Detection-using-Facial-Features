{
 "cells": [
  {
   "cell_type": "code",
   "execution_count": 1,
   "metadata": {
    "_cell_guid": "b1076dfc-b9ad-4769-8c92-a6c4dae69d19",
    "_uuid": "8f2839f25d086af736a60e9eeb907d3b93b6e0e5",
    "execution": {
     "iopub.execute_input": "2021-06-25T13:29:11.322080Z",
     "iopub.status.busy": "2021-06-25T13:29:11.321692Z",
     "iopub.status.idle": "2021-06-25T13:29:11.329234Z",
     "shell.execute_reply": "2021-06-25T13:29:11.328023Z",
     "shell.execute_reply.started": "2021-06-25T13:29:11.322045Z"
    }
   },
   "outputs": [],
   "source": [
    "#IMPORTS\n",
    "from tensorflow.keras import callbacks\n",
    "from tensorflow.keras.preprocessing.image import ImageDataGenerator\n",
    "from tensorflow.keras.optimizers import Adam\n",
    "from tensorflow.keras.preprocessing.image import img_to_array\n",
    "from tensorflow.keras.utils import to_categorical, plot_model\n",
    "from tensorflow.keras.models import Sequential\n",
    "from tensorflow.keras.layers import BatchNormalization, Conv2D, MaxPooling2D, Activation, Flatten, Dropout, Dense\n",
    "from tensorflow.keras import backend as K\n",
    "from sklearn.model_selection import train_test_split\n",
    "import matplotlib.pyplot as plt\n",
    "import numpy as np\n",
    "import pandas as pd\n",
    "import random\n",
    "import cv2\n",
    "import os\n",
    "import glob"
   ]
  },
  {
   "cell_type": "code",
   "execution_count": 2,
   "metadata": {
    "execution": {
     "iopub.execute_input": "2021-06-25T13:16:38.712599Z",
     "iopub.status.busy": "2021-06-25T13:16:38.712265Z",
     "iopub.status.idle": "2021-06-25T13:16:38.717054Z",
     "shell.execute_reply": "2021-06-25T13:16:38.716015Z",
     "shell.execute_reply.started": "2021-06-25T13:16:38.712565Z"
    }
   },
   "outputs": [],
   "source": [
    "# TUNING PARAMATERS\n",
    "epochs = 20\n",
    "lr = 0.0001\n",
    "batch_size = 16\n",
    "img_dims = (96,96,3)"
   ]
  },
  {
   "cell_type": "code",
   "execution_count": 3,
   "metadata": {
    "execution": {
     "iopub.execute_input": "2021-06-25T13:16:42.320470Z",
     "iopub.status.busy": "2021-06-25T13:16:42.320112Z",
     "iopub.status.idle": "2021-06-25T13:16:42.326923Z",
     "shell.execute_reply": "2021-06-25T13:16:42.326121Z",
     "shell.execute_reply.started": "2021-06-25T13:16:42.320436Z"
    }
   },
   "outputs": [],
   "source": [
    "# DATASET\n",
    "data = []\n",
    "labels = []"
   ]
  },
  {
   "cell_type": "code",
   "execution_count": 4,
   "metadata": {
    "execution": {
     "iopub.execute_input": "2021-06-25T13:16:45.483640Z",
     "iopub.status.busy": "2021-06-25T13:16:45.483291Z",
     "iopub.status.idle": "2021-06-25T13:16:50.520158Z",
     "shell.execute_reply": "2021-06-25T13:16:50.519333Z",
     "shell.execute_reply.started": "2021-06-25T13:16:45.483605Z"
    }
   },
   "outputs": [],
   "source": [
    "image_files = [f for f in glob.glob(r'Dataset' + \"/**/*\", recursive=True) if not os.path.isdir(f)]\r\n",
    "random.shuffle(image_files)"
   ]
  },
  {
   "cell_type": "code",
   "execution_count": 5,
   "metadata": {
    "execution": {
     "iopub.execute_input": "2021-06-25T13:17:03.401208Z",
     "iopub.status.busy": "2021-06-25T13:17:03.400847Z",
     "iopub.status.idle": "2021-06-25T13:17:09.171169Z",
     "shell.execute_reply": "2021-06-25T13:17:09.170190Z",
     "shell.execute_reply.started": "2021-06-25T13:17:03.401176Z"
    }
   },
   "outputs": [],
   "source": [
    "# CONVERTING IMAGES TO ARRAYS AND LABELLING THE CATEGORIES\r\n",
    "for img in image_files:\r\n",
    "    image = cv2.imread(img)\r\n",
    "    image = cv2.resize(image, (img_dims[0],img_dims[1]))\r\n",
    "    image = img_to_array(image)\r\n",
    "    data.append(image)\r\n",
    "    label = img.split(os.path.sep)[-2] \r\n",
    "    if label == \"male\":\r\n",
    "        label = 1\r\n",
    "    else:\r\n",
    "        label = 0\r\n",
    "    labels.append([label]) "
   ]
  },
  {
   "cell_type": "code",
   "execution_count": 6,
   "metadata": {
    "execution": {
     "iopub.execute_input": "2021-06-25T13:17:12.823390Z",
     "iopub.status.busy": "2021-06-25T13:17:12.823041Z",
     "iopub.status.idle": "2021-06-25T13:17:12.973016Z",
     "shell.execute_reply": "2021-06-25T13:17:12.971750Z",
     "shell.execute_reply.started": "2021-06-25T13:17:12.823355Z"
    }
   },
   "outputs": [],
   "source": [
    "# PRE-PROCESSING\n",
    "data = np.array(data, dtype=\"float\") / 255.0\n",
    "labels = np.array(labels)"
   ]
  },
  {
   "cell_type": "code",
   "execution_count": 7,
   "metadata": {
    "execution": {
     "iopub.execute_input": "2021-06-25T13:17:16.280471Z",
     "iopub.status.busy": "2021-06-25T13:17:16.280036Z",
     "iopub.status.idle": "2021-06-25T13:17:16.385168Z",
     "shell.execute_reply": "2021-06-25T13:17:16.383999Z",
     "shell.execute_reply.started": "2021-06-25T13:17:16.280433Z"
    }
   },
   "outputs": [],
   "source": [
    "# SPLIT DATASET FOR TRAINING AND VALIDATION\n",
    "(trainX, testX, trainY, testY) = train_test_split(data, labels, test_size=0.2, random_state=42)\n",
    "trainY = to_categorical(trainY, num_classes=2) \n",
    "testY = to_categorical(testY, num_classes=2)"
   ]
  },
  {
   "cell_type": "code",
   "execution_count": 8,
   "metadata": {
    "execution": {
     "iopub.execute_input": "2021-06-25T13:17:18.936044Z",
     "iopub.status.busy": "2021-06-25T13:17:18.935641Z",
     "iopub.status.idle": "2021-06-25T13:17:18.941426Z",
     "shell.execute_reply": "2021-06-25T13:17:18.940357Z",
     "shell.execute_reply.started": "2021-06-25T13:17:18.936009Z"
    }
   },
   "outputs": [],
   "source": [
    "# AUGMENTING DATSET \n",
    "aug = ImageDataGenerator(\n",
    "    rotation_range=30, \n",
    "    width_shift_range=0.2, \n",
    "    height_shift_range=0.2, \n",
    "    shear_range=0.2, \n",
    "    zoom_range=0.2,\n",
    "    horizontal_flip=True, \n",
    ")"
   ]
  },
  {
   "cell_type": "code",
   "execution_count": 9,
   "metadata": {
    "execution": {
     "iopub.execute_input": "2021-06-25T13:17:21.608256Z",
     "iopub.status.busy": "2021-06-25T13:17:21.607886Z",
     "iopub.status.idle": "2021-06-25T13:17:21.619919Z",
     "shell.execute_reply": "2021-06-25T13:17:21.618948Z",
     "shell.execute_reply.started": "2021-06-25T13:17:21.608221Z"
    }
   },
   "outputs": [],
   "source": [
    "# DEFINE MODEL\n",
    "def build(width, height, depth, classes):\n",
    "    model = Sequential()\n",
    "    inputShape = (height, width, depth)\n",
    "    chanDim = -1\n",
    "    if K.image_data_format() == \"channels_first\": \n",
    "        inputShape = (depth, height, width)\n",
    "        chanDim = 1\n",
    "    model.add(Conv2D(32, (3,3), padding=\"same\", input_shape=inputShape))\n",
    "    model.add(Activation(\"relu\"))\n",
    "    model.add(BatchNormalization(axis=chanDim))\n",
    "    model.add(MaxPooling2D(pool_size=(3,3)))\n",
    "    model.add(Dropout(0.25))\n",
    "\n",
    "    model.add(Conv2D(64, (3,3), padding=\"same\"))\n",
    "    model.add(Activation(\"relu\"))\n",
    "    model.add(BatchNormalization(axis=chanDim))\n",
    "\n",
    "    model.add(Conv2D(64, (3,3), padding=\"same\"))\n",
    "    model.add(Activation(\"relu\"))\n",
    "    model.add(BatchNormalization(axis=chanDim))\n",
    "    model.add(MaxPooling2D(pool_size=(2,2)))\n",
    "    model.add(Dropout(0.25))\n",
    "\n",
    "    model.add(Conv2D(128, (3,3), padding=\"same\"))\n",
    "    model.add(Activation(\"relu\"))\n",
    "    model.add(BatchNormalization(axis=chanDim))\n",
    "\n",
    "    model.add(Conv2D(128, (3,3), padding=\"same\"))\n",
    "    model.add(Activation(\"relu\"))\n",
    "    model.add(BatchNormalization(axis=chanDim))\n",
    "    model.add(MaxPooling2D(pool_size=(2,2)))\n",
    "    model.add(Dropout(0.25))\n",
    "\n",
    "    model.add(Flatten())\n",
    "    model.add(Dense(1024))\n",
    "    model.add(Activation(\"relu\"))\n",
    "    model.add(BatchNormalization())\n",
    "    model.add(Dropout(0.5))\n",
    "\n",
    "    model.add(Dense(classes))\n",
    "    model.add(Activation(\"sigmoid\"))\n",
    "\n",
    "    return model"
   ]
  },
  {
   "cell_type": "code",
   "execution_count": 10,
   "metadata": {
    "execution": {
     "iopub.execute_input": "2021-06-25T13:17:32.122905Z",
     "iopub.status.busy": "2021-06-25T13:17:32.122534Z",
     "iopub.status.idle": "2021-06-25T13:17:34.558375Z",
     "shell.execute_reply": "2021-06-25T13:17:34.557511Z",
     "shell.execute_reply.started": "2021-06-25T13:17:32.122868Z"
    }
   },
   "outputs": [],
   "source": [
    "# BUILD MODEL\n",
    "model = build(width=img_dims[0], height=img_dims[1], depth=img_dims[2], classes=2)"
   ]
  },
  {
   "cell_type": "code",
   "execution_count": 11,
   "metadata": {
    "execution": {
     "iopub.execute_input": "2021-06-25T13:17:37.357689Z",
     "iopub.status.busy": "2021-06-25T13:17:37.357355Z",
     "iopub.status.idle": "2021-06-25T13:17:37.374002Z",
     "shell.execute_reply": "2021-06-25T13:17:37.372990Z",
     "shell.execute_reply.started": "2021-06-25T13:17:37.357656Z"
    }
   },
   "outputs": [],
   "source": [
    "# COMPILE THE MODEL\n",
    "opt = Adam(lr=lr, decay=lr/epochs)\n",
    "model.compile(loss=\"binary_crossentropy\", optimizer=opt, metrics=[\"accuracy\"])"
   ]
  },
  {
   "cell_type": "code",
   "execution_count": 12,
   "metadata": {
    "execution": {
     "iopub.execute_input": "2021-06-25T13:17:40.025007Z",
     "iopub.status.busy": "2021-06-25T13:17:40.024605Z",
     "iopub.status.idle": "2021-06-25T13:17:40.029607Z",
     "shell.execute_reply": "2021-06-25T13:17:40.028746Z",
     "shell.execute_reply.started": "2021-06-25T13:17:40.024969Z"
    }
   },
   "outputs": [],
   "source": [
    "# EARLY STOPPING\r\n",
    "early_stopping = callbacks.EarlyStopping(\r\n",
    "    min_delta=0.001, \r\n",
    "    patience=5, \r\n",
    "    restore_best_weights=True,\r\n",
    ")"
   ]
  },
  {
   "cell_type": "code",
   "execution_count": 13,
   "metadata": {
    "execution": {
     "iopub.execute_input": "2021-06-25T13:17:46.344038Z",
     "iopub.status.busy": "2021-06-25T13:17:46.343575Z",
     "iopub.status.idle": "2021-06-25T13:19:57.810239Z",
     "shell.execute_reply": "2021-06-25T13:19:57.808508Z",
     "shell.execute_reply.started": "2021-06-25T13:17:46.343981Z"
    }
   },
   "outputs": [
    {
     "name": "stdout",
     "output_type": "stream",
     "text": [
      "Epoch 1/20\n",
      "1000/1000 [==============================] - 385s 385ms/step - loss: 0.7185 - accuracy: 0.6961 - val_loss: 0.4881 - val_accuracy: 0.8130\n",
      "Epoch 2/20\n",
      "1000/1000 [==============================] - 401s 401ms/step - loss: 0.5689 - accuracy: 0.7507 - val_loss: 0.5262 - val_accuracy: 0.7713\n",
      "Epoch 3/20\n",
      "1000/1000 [==============================] - 407s 407ms/step - loss: 0.4870 - accuracy: 0.7947 - val_loss: 0.3101 - val_accuracy: 0.8848\n",
      "Epoch 4/20\n",
      "1000/1000 [==============================] - 430s 430ms/step - loss: 0.4047 - accuracy: 0.8343 - val_loss: 0.2547 - val_accuracy: 0.9147\n",
      "Epoch 5/20\n",
      "1000/1000 [==============================] - 393s 393ms/step - loss: 0.3392 - accuracy: 0.8651 - val_loss: 0.2163 - val_accuracy: 0.9277\n",
      "Epoch 6/20\n",
      "1000/1000 [==============================] - 381s 381ms/step - loss: 0.3107 - accuracy: 0.8738 - val_loss: 0.1815 - val_accuracy: 0.9367\n",
      "Epoch 7/20\n",
      "1000/1000 [==============================] - 392s 392ms/step - loss: 0.2768 - accuracy: 0.8912 - val_loss: 0.2358 - val_accuracy: 0.9162\n",
      "Epoch 8/20\n",
      "1000/1000 [==============================] - 441s 441ms/step - loss: 0.2588 - accuracy: 0.9017 - val_loss: 0.1811 - val_accuracy: 0.9317\n",
      "Epoch 9/20\n",
      "1000/1000 [==============================] - 428s 428ms/step - loss: 0.2466 - accuracy: 0.9020 - val_loss: 0.1689 - val_accuracy: 0.9433\n",
      "Epoch 10/20\n",
      "1000/1000 [==============================] - 424s 424ms/step - loss: 0.2345 - accuracy: 0.9101 - val_loss: 0.1671 - val_accuracy: 0.9455\n",
      "Epoch 11/20\n",
      "1000/1000 [==============================] - 440s 440ms/step - loss: 0.2380 - accuracy: 0.9078 - val_loss: 0.2297 - val_accuracy: 0.9135\n",
      "Epoch 12/20\n",
      "1000/1000 [==============================] - 419s 419ms/step - loss: 0.2289 - accuracy: 0.9132 - val_loss: 0.1617 - val_accuracy: 0.9503\n",
      "Epoch 13/20\n",
      "1000/1000 [==============================] - 421s 421ms/step - loss: 0.2193 - accuracy: 0.9170 - val_loss: 0.1704 - val_accuracy: 0.9417\n",
      "Epoch 14/20\n",
      "1000/1000 [==============================] - 415s 415ms/step - loss: 0.2104 - accuracy: 0.9183 - val_loss: 0.1590 - val_accuracy: 0.9475\n",
      "Epoch 15/20\n",
      "1000/1000 [==============================] - 419s 419ms/step - loss: 0.2132 - accuracy: 0.9196 - val_loss: 0.1642 - val_accuracy: 0.9507\n",
      "Epoch 16/20\n",
      "1000/1000 [==============================] - 405s 405ms/step - loss: 0.2073 - accuracy: 0.9219 - val_loss: 0.1434 - val_accuracy: 0.9530\n",
      "Epoch 17/20\n",
      "1000/1000 [==============================] - 402s 402ms/step - loss: 0.2031 - accuracy: 0.9237 - val_loss: 0.1536 - val_accuracy: 0.9485\n",
      "Epoch 18/20\n",
      "1000/1000 [==============================] - 420s 420ms/step - loss: 0.1961 - accuracy: 0.9244 - val_loss: 0.1439 - val_accuracy: 0.9510\n",
      "Epoch 19/20\n",
      "1000/1000 [==============================] - 377s 377ms/step - loss: 0.1981 - accuracy: 0.9243 - val_loss: 0.1471 - val_accuracy: 0.9470\n",
      "Epoch 20/20\n",
      "1000/1000 [==============================] - 362s 362ms/step - loss: 0.1940 - accuracy: 0.9267 - val_loss: 0.1443 - val_accuracy: 0.9475\n"
     ]
    }
   ],
   "source": [
    "# TRAIN THE MODEL\r\n",
    "H = model.fit(\r\n",
    "    aug.flow(trainX, trainY, batch_size=batch_size), \r\n",
    "    validation_data=(testX,testY),\r\n",
    "    steps_per_epoch=len(trainX) // batch_size, \r\n",
    "    epochs=epochs,\r\n",
    "    callbacks=[early_stopping], \r\n",
    "    verbose=1,\r\n",
    ")"
   ]
  },
  {
   "cell_type": "code",
   "execution_count": 19,
   "metadata": {
    "execution": {
     "iopub.execute_input": "2021-06-25T13:29:23.851374Z",
     "iopub.status.busy": "2021-06-25T13:29:23.851019Z",
     "iopub.status.idle": "2021-06-25T13:29:24.033834Z",
     "shell.execute_reply": "2021-06-25T13:29:24.032796Z",
     "shell.execute_reply.started": "2021-06-25T13:29:23.851339Z"
    }
   },
   "outputs": [
    {
     "name": "stdout",
     "output_type": "stream",
     "text": [
      "Minimum validation loss: 0.14336012303829193\n"
     ]
    },
    {
     "data": {
      "image/png": "[encoded data removed]",
      "text/plain": [
       "<Figure size 432x288 with 1 Axes>"
      ]
     },
     "metadata": {
      "needs_background": "light"
     },
     "output_type": "display_data"
    }
   ],
   "source": [
    "# PLOT TRAINING/VALIDATION ACCURACY\r\n",
    "history_df = pd.DataFrame(H.history)\r\n",
    "history_df.loc[:, ['loss', 'val_loss']].plot();\r\n",
    "print(\"Minimum validation loss: {}\".format(history_df['val_loss'].min()))\r\n",
    "plt.savefig('loss.png')"
   ]
  },
  {
   "cell_type": "code",
   "execution_count": 15,
   "metadata": {
    "execution": {
     "iopub.execute_input": "2021-06-25T13:24:58.185713Z",
     "iopub.status.busy": "2021-06-25T13:24:58.185312Z",
     "iopub.status.idle": "2021-06-25T13:25:01.915128Z",
     "shell.execute_reply": "2021-06-25T13:25:01.914104Z",
     "shell.execute_reply.started": "2021-06-25T13:24:58.185664Z"
    }
   },
   "outputs": [
    {
     "name": "stdout",
     "output_type": "stream",
     "text": [
      "WARNING:tensorflow:From C:\\ProgramData\\Anaconda3\\lib\\site-packages\\tensorflow\\python\\training\\tracking\\tracking.py:111: Model.state_updates (from tensorflow.python.keras.engine.training) is deprecated and will be removed in a future version.\n",
      "Instructions for updating:\n",
      "This property should not be used in TensorFlow 2.0, as updates are applied automatically.\n",
      "WARNING:tensorflow:From C:\\ProgramData\\Anaconda3\\lib\\site-packages\\tensorflow\\python\\training\\tracking\\tracking.py:111: Layer.updates (from tensorflow.python.keras.engine.base_layer) is deprecated and will be removed in a future version.\n",
      "Instructions for updating:\n",
      "This property should not be used in TensorFlow 2.0, as updates are applied automatically.\n",
      "INFO:tensorflow:Assets written to: genderDetection.model\\assets\n"
     ]
    }
   ],
   "source": [
    "# SAVE THE MODEL TO DISK\r\n",
    "model.save('genderDetection.model')"
   ]
  },
  {
   "cell_type": "code",
   "execution_count": 20,
   "metadata": {
    "execution": {
     "iopub.execute_input": "2021-06-25T13:26:40.611304Z",
     "iopub.status.busy": "2021-06-25T13:26:40.610946Z",
     "iopub.status.idle": "2021-06-25T13:26:40.782660Z",
     "shell.execute_reply": "2021-06-25T13:26:40.781769Z",
     "shell.execute_reply.started": "2021-06-25T13:26:40.611271Z"
    }
   },
   "outputs": [
    {
     "data": {
      "image/png": "[encoded data removed]",
      "text/plain": [
       "<Figure size 432x288 with 1 Axes>"
      ]
     },
     "metadata": {
      "needs_background": "light"
     },
     "output_type": "display_data"
    }
   ],
   "source": [
    "# PLOT TRAINING/VALIDATION ACCURACY\r\n",
    "history_df = pd.DataFrame(H.history)\r\n",
    "history_df.loc[:, ['accuracy', 'val_accuracy']].plot()\r\n",
    "plt.savefig('acc.png')"
   ]
  }
 ],
 "metadata": {
  "interpreter": {
   "hash": "b3ba2566441a7c06988d0923437866b63cedc61552a5af99d1f4fb67d367b25f"
  },
  "kernelspec": {
   "display_name": "Python 3.8.10 64-bit ('base': conda)",
   "name": "python3"
  },
  "language_info": {
   "codemirror_mode": {
    "name": "ipython",
    "version": 3
   },
   "file_extension": ".py",
   "mimetype": "text/x-python",
   "name": "python",
   "nbconvert_exporter": "python",
   "pygments_lexer": "ipython3",
   "version": "3.8.10"
  }
 },
 "nbformat": 4,
 "nbformat_minor": 4
}